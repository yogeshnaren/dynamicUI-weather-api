{
 "cells": [
  {
   "cell_type": "code",
   "execution_count": 11,
   "metadata": {},
   "outputs": [
    {
     "name": "stdout",
     "output_type": "stream",
     "text": [
      "{\"query\":{\"count\":10,\"created\":\"2018-03-20T04:25:40Z\",\"lang\":\"en-US\",\"results\":{\"channel\":[{\"item\":{\"forecast\":{\"date\":\"20 Mar 2018\",\"high\":\"47\",\"low\":\"36\"}}},{\"item\":{\"forecast\":{\"date\":\"21 Mar 2018\",\"high\":\"37\",\"low\":\"31\"}}},{\"item\":{\"forecast\":{\"date\":\"22 Mar 2018\",\"high\":\"42\",\"low\":\"24\"}}},{\"item\":{\"forecast\":{\"date\":\"23 Mar 2018\",\"high\":\"46\",\"low\":\"24\"}}},{\"item\":{\"forecast\":{\"date\":\"24 Mar 2018\",\"high\":\"39\",\"low\":\"30\"}}},{\"item\":{\"forecast\":{\"date\":\"25 Mar 2018\",\"high\":\"42\",\"low\":\"32\"}}},{\"item\":{\"forecast\":{\"date\":\"26 Mar 2018\",\"high\":\"49\",\"low\":\"35\"}}},{\"item\":{\"forecast\":{\"date\":\"27 Mar 2018\",\"high\":\"52\",\"low\":\"39\"}}},{\"item\":{\"forecast\":{\"date\":\"28 Mar 2018\",\"high\":\"56\",\"low\":\"43\"}}},{\"item\":{\"forecast\":{\"date\":\"29 Mar 2018\",\"high\":\"57\",\"low\":\"39\"}}}]}}}\n"
     ]
    }
   ],
   "source": [
    "# %load testyahoo.py\n",
    "import urllib2, urllib, json\n",
    "import unicodedata\n",
    "baseurl = \"https://query.yahooapis.com/v1/public/yql?\"\n",
    "yql_query = \"select item.forecast.date, item.forecast.high, item.forecast.low from weather.forecast where woeid in (select woeid from geo.places(1) where text='cincinnati, oh')\"\n",
    "yql_url = baseurl + urllib.urlencode({'q':yql_query}) + \"&format=json\"\n",
    "result = urllib2.urlopen(yql_url).read()\n",
    "print result"
   ]
  },
  {
   "cell_type": "code",
   "execution_count": 47,
   "metadata": {},
   "outputs": [],
   "source": [
    "data = json.loads(result)\n",
    "date2 = data['query']['results']['channel'][0]['item']['forecast']['date']\n",
    "date_res = datetime.datetime.strptime(date2,'%d %b %Y').strftime('%Y%m%d')\n",
    "max_temp = data['query']['results']['channel'][0]['item']['forecast']['high']\n",
    "min_temp = data['query']['results']['channel'][0]['item']['forecast']['low']\n",
    "data1 = {'DATE': date_res, 'TMAX': max_temp, 'TMIN': min_temp}"
   ]
  },
  {
   "cell_type": "code",
   "execution_count": 49,
   "metadata": {},
   "outputs": [
    {
     "data": {
      "text/plain": [
       "{'DATE': '20180320', 'TMAX': u'47', 'TMIN': u'36'}"
      ]
     },
     "execution_count": 49,
     "metadata": {},
     "output_type": "execute_result"
    }
   ],
   "source": [
    "data1"
   ]
  },
  {
   "cell_type": "code",
   "execution_count": 54,
   "metadata": {},
   "outputs": [
    {
     "name": "stdout",
     "output_type": "stream",
     "text": [
      "['20180320']\n",
      "['20180320', '20180321']\n",
      "['20180320', '20180321', '20180322']\n",
      "['20180320', '20180321', '20180322', '20180323']\n",
      "['20180320', '20180321', '20180322', '20180323', '20180324']\n",
      "['20180320', '20180321', '20180322', '20180323', '20180324', '20180325']\n"
     ]
    },
    {
     "data": {
      "text/plain": [
       "['20180320', '20180321', '20180322', '20180323', '20180324', '20180325']"
      ]
     },
     "execution_count": 54,
     "metadata": {},
     "output_type": "execute_result"
    }
   ],
   "source": [
    "dataset = []\n",
    "date_res = []\n",
    "date = datetime.datetime.strptime('20180320',\"%Y%m%d\")\n",
    "for i in range(0,6):\n",
    "    date_res.append(date.strftime('%Y%m%d'))\n",
    "    print(date_res)\n",
    "    date += datetime.timedelta(days=1)\n",
    "    j = 0\n",
    "    if (int(date_res[i])>20180215) | (int(date_res[i])<20130101):\n",
    "        yql_query = \"select item.forecast.date, item.forecast.high, item.forecast.low from weather.forecast where woeid in (select woeid from geo.places(1) where text='cincinnati, oh')\"\n",
    "        yql_url = baseurl + urllib.urlencode({'q':yql_query}) + \"&format=json\"\n",
    "        result = urllib2.urlopen(yql_url).read()\n",
    "        data = json.loads(result)\n",
    "        date2 = data['query']['results']['channel'][j]['item']['forecast']['date']                \n",
    "        # date_res[i] = datetime.datetime.strptime(date2,'%d %b %Y').strftime('%Y%m%d')\n",
    "        max_temp = float(data['query']['results']['channel'][j]['item']['forecast']['high'])\n",
    "        min_temp = float(data['query']['results']['channel'][j]['item']['forecast']['low'])\n",
    "        data1 = {'DATE': date_res[i], 'TMAX': max_temp, 'TMIN': min_temp}\n",
    "        dataset.append(data1)\n",
    "        j+=1\n",
    "        # serializer = weatherSerializer(data=data1)\n",
    "        # if serializer.is_valid():\n",
    "        #     serializer.save()\n",
    "date_res"
   ]
  },
  {
   "cell_type": "code",
   "execution_count": null,
   "metadata": {
    "collapsed": true
   },
   "outputs": [],
   "source": []
  }
 ],
 "metadata": {
  "kernelspec": {
   "display_name": "Python 2",
   "language": "python",
   "name": "python2"
  },
  "language_info": {
   "codemirror_mode": {
    "name": "ipython",
    "version": 2
   },
   "file_extension": ".py",
   "mimetype": "text/x-python",
   "name": "python",
   "nbconvert_exporter": "python",
   "pygments_lexer": "ipython2",
   "version": "2.7.13"
  }
 },
 "nbformat": 4,
 "nbformat_minor": 2
}
